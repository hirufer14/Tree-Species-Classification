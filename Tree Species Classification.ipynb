{
 "cells": [
  {
   "cell_type": "code",
   "execution_count": 3,
   "id": "8e482c6e-3011-4430-b961-bd8de55ca1cf",
   "metadata": {},
   "outputs": [],
   "source": [
    "import numpy as np\n",
    "import pandas as pd\n",
    "from sklearn.model_selection import train_test_split\n",
    "from sklearn.preprocessing import StandardScaler\n",
    "from sklearn.preprocessing import LabelEncoder\n",
    "from tensorflow.keras.models import Sequential\n",
    "from tensorflow.keras.layers import Dense\n",
    "from tensorflow.keras.utils import to_categorical\n",
    "from tensorflow.keras.optimizers import Adam\n",
    "from tensorflow.keras.callbacks import EarlyStopping\n",
    "import matplotlib.pyplot as plt\n",
    "import joblib"
   ]
  },
  {
   "cell_type": "code",
   "execution_count": 4,
   "id": "34b03b28-4bef-41de-a620-8fe2af6f1b61",
   "metadata": {},
   "outputs": [],
   "source": [
    "np.random.seed(42)"
   ]
  },
  {
   "cell_type": "markdown",
   "id": "00cac5d8-e1d1-4c05-b590-9d1773b8b221",
   "metadata": {},
   "source": [
    "# load dataset"
   ]
  },
  {
   "cell_type": "code",
   "execution_count": 7,
   "id": "b58a32e0-7e52-44dd-a160-7c193a6cbd18",
   "metadata": {},
   "outputs": [],
   "source": [
    "data = pd.read_csv('/Users/hirunifernando/Desktop/tree_classifier_datasets.csv')"
   ]
  },
  {
   "cell_type": "markdown",
   "id": "7f0b6794-7724-4d61-b404-4e79f9c105c5",
   "metadata": {},
   "source": [
    "# separate features and labels"
   ]
  },
  {
   "cell_type": "code",
   "execution_count": 8,
   "id": "50ef5b3f-7756-463e-8138-68cf0446c49f",
   "metadata": {},
   "outputs": [],
   "source": [
    "X = data[['length', 'width', 'ratio', 'petiole_length', 'angle']]"
   ]
  },
  {
   "cell_type": "code",
   "execution_count": 9,
   "id": "5b6a6b6e-0957-45fd-8107-732a7350edb7",
   "metadata": {},
   "outputs": [],
   "source": [
    "y = data['species']"
   ]
  },
  {
   "cell_type": "markdown",
   "id": "5854545b-d9d3-41ce-a668-e347ebb8832b",
   "metadata": {},
   "source": [
    "# Encode labels as one-hot"
   ]
  },
  {
   "cell_type": "code",
   "execution_count": 10,
   "id": "92bfe571-bc70-489c-9a77-a24a75d92800",
   "metadata": {},
   "outputs": [],
   "source": [
    "label_encoder = LabelEncoder()\n",
    "y_encoded = label_encoder.fit_transform(y)\n",
    "y_one_hot = to_categorical(y_encoded)"
   ]
  },
  {
   "cell_type": "markdown",
   "id": "3fcd7205-06ca-4297-8d34-6f1e0ec27b08",
   "metadata": {},
   "source": [
    "# Split the dataset into training and testing sets"
   ]
  },
  {
   "cell_type": "code",
   "execution_count": 11,
   "id": "ad89fd47-87be-4ce7-a72a-5a90d70f61a8",
   "metadata": {},
   "outputs": [],
   "source": [
    "X_train, X_test, y_train, y_test = train_test_split(X, y_one_hot, test_size=0.2, random_state=42)"
   ]
  },
  {
   "cell_type": "code",
   "execution_count": 12,
   "id": "de807820-7eec-4e9d-8197-41f6880c5080",
   "metadata": {},
   "outputs": [],
   "source": [
    "scaler = StandardScaler()\n",
    "X_train = scaler.fit_transform(X_train)\n",
    "X_test = scaler.transform(X_test)"
   ]
  },
  {
   "cell_type": "markdown",
   "id": "f535d612-1ab1-464c-a058-72e183a009ed",
   "metadata": {},
   "source": [
    "# Define the model"
   ]
  },
  {
   "cell_type": "code",
   "execution_count": 108,
   "id": "ceabc3b9-0647-4757-bb6a-47e6d30b1a81",
   "metadata": {},
   "outputs": [],
   "source": [
    "model = Sequential()\n",
    "model.add(Dense(10, input_dim=5, activation='relu'))\n",
    "model.add(Dense(10, activation='relu'))\n",
    "model.add(Dense(3, activation='softmax'))"
   ]
  },
  {
   "cell_type": "code",
   "execution_count": 109,
   "id": "be804548-00c0-452f-9d70-44f3f57ddd1e",
   "metadata": {},
   "outputs": [],
   "source": [
    "import tensorflow as tf"
   ]
  },
  {
   "cell_type": "code",
   "execution_count": 110,
   "id": "f5d6f707-0615-4c0d-abfe-babfe8794894",
   "metadata": {},
   "outputs": [],
   "source": [
    "optimizer = tf.keras.optimizers.legacy.Adam(learning_rate=0.01)"
   ]
  },
  {
   "cell_type": "code",
   "execution_count": 111,
   "id": "97033b85-155f-4b4a-ba79-d7309aaa4f4f",
   "metadata": {},
   "outputs": [],
   "source": [
    "model.compile(loss='categorical_crossentropy', optimizer=optimizer, metrics=['accuracy'])"
   ]
  },
  {
   "cell_type": "markdown",
   "id": "774493e7-6696-464c-8938-3de9d3910edc",
   "metadata": {},
   "source": [
    "# Train the model"
   ]
  },
  {
   "cell_type": "code",
   "execution_count": 119,
   "id": "c651934a-e434-422a-817d-5e8ab23cfe51",
   "metadata": {},
   "outputs": [
    {
     "name": "stdout",
     "output_type": "stream",
     "text": [
      "Epoch 1/10\n",
      "12/12 [==============================] - 0s 5ms/step - loss: 2.3273e-04 - accuracy: 1.0000 - val_loss: 5.8902e-04 - val_accuracy: 1.0000\n",
      "Epoch 2/10\n",
      "12/12 [==============================] - 0s 1ms/step - loss: 2.2224e-04 - accuracy: 1.0000 - val_loss: 5.8089e-04 - val_accuracy: 1.0000\n",
      "Epoch 3/10\n",
      "12/12 [==============================] - 0s 1ms/step - loss: 2.1026e-04 - accuracy: 1.0000 - val_loss: 5.7742e-04 - val_accuracy: 1.0000\n",
      "Epoch 4/10\n",
      "12/12 [==============================] - 0s 1ms/step - loss: 1.9944e-04 - accuracy: 1.0000 - val_loss: 5.6530e-04 - val_accuracy: 1.0000\n",
      "Epoch 5/10\n",
      "12/12 [==============================] - 0s 1ms/step - loss: 1.9126e-04 - accuracy: 1.0000 - val_loss: 5.6144e-04 - val_accuracy: 1.0000\n",
      "Epoch 6/10\n",
      "12/12 [==============================] - 0s 1ms/step - loss: 1.8255e-04 - accuracy: 1.0000 - val_loss: 5.4879e-04 - val_accuracy: 1.0000\n",
      "Epoch 7/10\n",
      "12/12 [==============================] - 0s 1ms/step - loss: 1.7504e-04 - accuracy: 1.0000 - val_loss: 5.4052e-04 - val_accuracy: 1.0000\n",
      "Epoch 8/10\n",
      "12/12 [==============================] - 0s 1ms/step - loss: 1.6696e-04 - accuracy: 1.0000 - val_loss: 5.3086e-04 - val_accuracy: 1.0000\n",
      "Epoch 9/10\n",
      "12/12 [==============================] - 0s 1ms/step - loss: 1.6049e-04 - accuracy: 1.0000 - val_loss: 5.2482e-04 - val_accuracy: 1.0000\n",
      "Epoch 10/10\n",
      "12/12 [==============================] - 0s 1ms/step - loss: 1.5331e-04 - accuracy: 1.0000 - val_loss: 5.1736e-04 - val_accuracy: 1.0000\n"
     ]
    }
   ],
   "source": [
    "history = model.fit(X_train, y_train, epochs=10, batch_size=10, validation_data=(X_test, y_test))"
   ]
  },
  {
   "cell_type": "code",
   "execution_count": 120,
   "id": "5a9ef1de-c2c0-4e79-b38c-5757faa71907",
   "metadata": {},
   "outputs": [
    {
     "data": {
      "image/png": "[encoded data removed]",
      "text/plain": [
       "<Figure size 640x480 with 1 Axes>"
      ]
     },
     "metadata": {},
     "output_type": "display_data"
    }
   ],
   "source": [
    "loss = history.history['loss']\n",
    "val_loss = history.history['val_loss']\n",
    "epochs = range(1, len(loss) + 1)\n",
    "plt.plot(epochs, loss, 'r', label='Training loss')\n",
    "plt.plot(epochs, val_loss, 'b', label='Validation loss')\n",
    "plt.title('Training and validation loss')\n",
    "plt.xlabel('Epochs')\n",
    "plt.ylabel('Loss')\n",
    "plt.legend()\n",
    "plt.show()"
   ]
  },
  {
   "cell_type": "code",
   "execution_count": 121,
   "id": "3eb084fd-0e03-4fc0-ac25-e869cdc5ec4f",
   "metadata": {},
   "outputs": [
    {
     "data": {
      "image/png": "[encoded data removed]",
      "text/plain": [
       "<Figure size 640x480 with 1 Axes>"
      ]
     },
     "metadata": {},
     "output_type": "display_data"
    }
   ],
   "source": [
    "plt.clf()\n",
    "acc = history.history['accuracy']\n",
    "val_acc = history.history['val_accuracy']\n",
    "plt.plot(epochs, acc, 'r', label='Training acc')\n",
    "plt.plot(epochs, val_acc, 'b', label='Validation acc')\n",
    "plt.title('Training and validation accuracy')\n",
    "plt.xlabel('Epochs')\n",
    "plt.ylabel('Loss')\n",
    "plt.legend()\n",
    "plt.show()"
   ]
  },
  {
   "cell_type": "markdown",
   "id": "3190ed2c-d0a2-4e82-a505-dd5354f9d806",
   "metadata": {},
   "source": [
    "# evaluate the model"
   ]
  },
  {
   "cell_type": "code",
   "execution_count": 122,
   "id": "41132a39-3168-463b-bfad-999b7c4fe14c",
   "metadata": {},
   "outputs": [
    {
     "name": "stdout",
     "output_type": "stream",
     "text": [
      "1/1 [==============================] - 0s 111ms/step - loss: 5.1736e-04 - accuracy: 1.0000\n",
      "Test Accuracy: 100.00%\n"
     ]
    }
   ],
   "source": [
    "loss, accuracy = model.evaluate(X_test, y_test)\n",
    "print(f\"Test Accuracy: {accuracy * 100:.2f}%\")"
   ]
  },
  {
   "cell_type": "code",
   "execution_count": 123,
   "id": "b39c25a1-1430-4752-831a-5d4655b8f323",
   "metadata": {},
   "outputs": [],
   "source": [
    "X_scaled = scaler.transform(X)"
   ]
  },
  {
   "cell_type": "markdown",
   "id": "c3203ec4-0d02-4170-b21e-2e60f802966b",
   "metadata": {},
   "source": [
    "# make predictions"
   ]
  },
  {
   "cell_type": "code",
   "execution_count": 124,
   "id": "2cb15825-37f7-4576-a8d4-60b260a8c246",
   "metadata": {},
   "outputs": [
    {
     "name": "stdout",
     "output_type": "stream",
     "text": [
      "5/5 [==============================] - 0s 624us/step\n"
     ]
    }
   ],
   "source": [
    "predictions = model.predict(X_scaled)"
   ]
  },
  {
   "cell_type": "code",
   "execution_count": 125,
   "id": "4891222d-e8f3-47c0-b049-334c021b6cf1",
   "metadata": {},
   "outputs": [],
   "source": [
    "predicted_classes = np.argmax(predictions, axis=1)\n",
    "true_classes = np.argmax(y_one_hot, axis=1)"
   ]
  },
  {
   "cell_type": "code",
   "execution_count": 126,
   "id": "f6fc0622-065e-4ab1-98c7-1ad73f734be3",
   "metadata": {},
   "outputs": [],
   "source": [
    "predicted_species = label_encoder.inverse_transform(predicted_classes)\n",
    "true_species = label_encoder.inverse_transform(true_classes)"
   ]
  },
  {
   "cell_type": "code",
   "execution_count": 127,
   "id": "b4998541-f5e1-463f-926d-c6f81e53f8a4",
   "metadata": {},
   "outputs": [
    {
     "name": "stdout",
     "output_type": "stream",
     "text": [
      "          True Species  Predicted Species\n",
      "0    creamColour_ixora  creamColour_ixora\n",
      "1    creamColour_ixora  creamColour_ixora\n",
      "2    creamColour_ixora  creamColour_ixora\n",
      "3    creamColour_ixora  creamColour_ixora\n",
      "4    creamColour_ixora  creamColour_ixora\n",
      "..                 ...                ...\n",
      "145          jackfruit          jackfruit\n",
      "146          jackfruit          jackfruit\n",
      "147          jackfruit          jackfruit\n",
      "148          jackfruit          jackfruit\n",
      "149          jackfruit          jackfruit\n",
      "\n",
      "[150 rows x 2 columns]\n"
     ]
    }
   ],
   "source": [
    "results = pd.DataFrame({'True Species': true_species, 'Predicted Species': predicted_species})\n",
    "print(results)"
   ]
  },
  {
   "cell_type": "code",
   "execution_count": 128,
   "id": "c2db2f2e-d2e0-4398-af51-58689da46899",
   "metadata": {},
   "outputs": [
    {
     "name": "stdout",
     "output_type": "stream",
     "text": [
      "Prediction Accuracy: 100.00%\n"
     ]
    }
   ],
   "source": [
    "accuracy = np.mean(predicted_species == true_species)\n",
    "print(f\"Prediction Accuracy: {accuracy * 100:.2f}%\")"
   ]
  },
  {
   "cell_type": "code",
   "execution_count": 129,
   "id": "a29b3b03-b292-4ca0-8cb7-e6c3741fa3f1",
   "metadata": {},
   "outputs": [],
   "source": [
    "model.save('tree_species_classifier.h5')"
   ]
  },
  {
   "cell_type": "code",
   "execution_count": null,
   "id": "405ae2d0-7668-403a-8e93-05b9b42f80cd",
   "metadata": {},
   "outputs": [],
   "source": []
  }
 ],
 "metadata": {
  "kernelspec": {
   "display_name": "Python 3 (ipykernel)",
   "language": "python",
   "name": "python3"
  },
  "language_info": {
   "codemirror_mode": {
    "name": "ipython",
    "version": 3
   },
   "file_extension": ".py",
   "mimetype": "text/x-python",
   "name": "python",
   "nbconvert_exporter": "python",
   "pygments_lexer": "ipython3",
   "version": "3.11.5"
  }
 },
 "nbformat": 4,
 "nbformat_minor": 5
}
